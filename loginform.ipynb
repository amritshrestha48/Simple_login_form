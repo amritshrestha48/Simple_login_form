{
 "cells": [
  {
   "cell_type": "code",
   "execution_count": 4,
   "id": "9092dd8c",
   "metadata": {},
   "outputs": [],
   "source": [
    "import tkinter as tk\n",
    "from tkinter import messagebox\n",
    "\n",
    "# Function to check the login credentials\n",
    "def login():\n",
    "    username = username_entry.get()\n",
    "    password = password_entry.get()\n",
    "\n",
    "    # Check if the username and password match\n",
    "    if username == \"admin\" and password == \"password\":\n",
    "        messagebox.showinfo(\"Login Successful\", \"Welcome, \" + username + \"!\")\n",
    "    else:\n",
    "        messagebox.showerror(\"Login Failed\", \"Invalid username or password\")\n",
    "\n",
    "# Create the main window\n",
    "root = tk.Tk()\n",
    "root.title(\"Login Form\")\n",
    "\n",
    "# Create and place labels and entry widgets for username and password\n",
    "username_label = tk.Label(root, text=\"Username:\")\n",
    "username_label.pack()\n",
    "username_entry = tk.Entry(root)\n",
    "username_entry.pack()\n",
    "\n",
    "password_label = tk.Label(root, text=\"Password:\")\n",
    "password_label.pack()\n",
    "password_entry = tk.Entry(root, show=\"*\")  # The \"show\" attribute hides the password\n",
    "password_entry.pack()\n",
    "\n",
    "# Create and place the login button\n",
    "login_button = tk.Button(root, text=\"Login\", command=login)\n",
    "login_button.pack()\n",
    "\n",
    "# Run the main loop\n",
    "root.mainloop()\n"
   ]
  },
  {
   "cell_type": "code",
   "execution_count": null,
   "id": "52b40602",
   "metadata": {},
   "outputs": [],
   "source": []
  }
 ],
 "metadata": {
  "kernelspec": {
   "display_name": "Python 3 (ipykernel)",
   "language": "python",
   "name": "python3"
  },
  "language_info": {
   "codemirror_mode": {
    "name": "ipython",
    "version": 3
   },
   "file_extension": ".py",
   "mimetype": "text/x-python",
   "name": "python",
   "nbconvert_exporter": "python",
   "pygments_lexer": "ipython3",
   "version": "3.11.5"
  }
 },
 "nbformat": 4,
 "nbformat_minor": 5
}
